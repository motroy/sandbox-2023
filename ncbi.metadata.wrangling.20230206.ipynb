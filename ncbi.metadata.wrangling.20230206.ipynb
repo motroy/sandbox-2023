{
 "cells": [
  {
   "cell_type": "code",
   "execution_count": null,
   "id": "a22cefbf-80c2-4c20-97dd-81e84f051e43",
   "metadata": {},
   "outputs": [],
   "source": [
    "!mamba install -y -c bioconda pysradb\n",
    "!mkdir assembly_info.biosample.accession.output"
   ]
  },
  {
   "cell_type": "code",
   "execution_count": null,
   "id": "a2dca8c0-133c-4272-a225-dc3cf0657af3",
   "metadata": {},
   "outputs": [],
   "source": [
    "import sys\n",
    "import time\n",
    "import pandas as pd\n",
    "\n",
    "from pysradb import SRAweb\n",
    "\n",
    "db = SRAweb()\n",
    "results=list()\n",
    "\n",
    "file = open('SRR.txt',\"r\")\n",
    "for srp in file:\n",
    "    try:\n",
    "        df = db.sra_metadata(srp)\n",
    "        #df.to_csv(\"assembly_info.biosample.accession.output/{}.tsv\".format(srp), sep=\"\\t\", index=False)\n",
    "        results.append(df)\n",
    "    except:\n",
    "        sys.stderr.write(\"Error with {}\\n\".format(srp))\n",
    "        time.sleep(0.5)\n",
    "    time.sleep(0.5)"
   ]
  },
  {
   "cell_type": "code",
   "execution_count": null,
   "id": "609c1c86-3c0f-4d84-b861-9214920d92a6",
   "metadata": {},
   "outputs": [],
   "source": [
    "final_df=pd.concat(results, axis=0, ignore_index=False)\n",
    "final_df.to_csv('assembly_info.biosample.accession.output.tsv',sep=\"\\t\")"
   ]
  }
 ],
 "metadata": {
  "kernelspec": {
   "display_name": "Python 3 (ipykernel)",
   "language": "python",
   "name": "python3"
  },
  "language_info": {
   "codemirror_mode": {
    "name": "ipython",
    "version": 3
   },
   "file_extension": ".py",
   "mimetype": "text/x-python",
   "name": "python",
   "nbconvert_exporter": "python",
   "pygments_lexer": "ipython3",
   "version": "3.7.12"
  }
 },
 "nbformat": 4,
 "nbformat_minor": 5
}
